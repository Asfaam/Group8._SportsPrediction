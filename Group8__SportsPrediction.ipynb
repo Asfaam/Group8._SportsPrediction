{
  "cells": [
    {
      "cell_type": "markdown",
      "metadata": {
        "id": "V1n-P3yk0dGr"
      },
      "source": [
        "**Title**: *Sports Prediction- FIFA Player Rating Prediction*\n",
        "\n",
        "**Description:** *This code will build a machine learning model for  predicting\n",
        "                  a player's overall rating and confidence based on the profile and then deploy the best model as a web application.*\n",
        "\n",
        "**Author:** *Faisal Alidu, Emmanuel Soumahoro*\n",
        "\n",
        "**Date:** *22nd October 2023*\n"
      ]
    },
    {
      "cell_type": "code",
      "execution_count": null,
      "metadata": {
        "id": "HGOsaG4RB1hH"
      },
      "outputs": [],
      "source": [
        "from google.colab import drive\n",
        "drive.mount('/content/drive')"
      ]
    },
    {
      "cell_type": "code",
      "execution_count": 39,
      "metadata": {
        "id": "XLeyztHAQium"
      },
      "outputs": [],
      "source": [
        "# Import libraries\n",
        "import pickle\n",
        "import warnings\n",
        "import numpy as np\n",
        "import pandas as pd\n",
        "from sklearn.svm import SVR\n",
        "from sklearn.svm import SVC\n",
        "import matplotlib.pyplot as plt\n",
        "from xgboost import XGBRegressor\n",
        "from sklearn import tree, metrics\n",
        "from sklearn.impute import SimpleImputer\n",
        "from sklearn.naive_bayes import GaussianNB\n",
        "from sklearn.metrics import accuracy_score\n",
        "from sklearn.ensemble import VotingClassifier\n",
        "from sklearn.tree import DecisionTreeClassifier\n",
        "from sklearn.preprocessing import StandardScaler\n",
        "from sklearn.model_selection import GridSearchCV\n",
        "from sklearn.neighbors import KNeighborsClassifier\n",
        "from sklearn.model_selection import cross_val_score\n",
        "from sklearn.ensemble import RandomForestClassifier\n",
        "from sklearn.model_selection import train_test_split\n",
        "from sklearn.metrics import classification_report, confusion_matrix\n",
        "from sklearn.ensemble import RandomForestRegressor, GradientBoostingRegressor\n",
        "from sklearn.metrics import make_scorer, mean_absolute_error, mean_squared_error, r2_score\n",
        "# Suppress warnings\n",
        "warnings.simplefilter(action='ignore', category=Warning)"
      ]
    },
    {
      "cell_type": "markdown",
      "metadata": {
        "id": "zZLqf3VbXCG9"
      },
      "source": [
        "### Data Preparation & Feature Extraction"
      ]
    },
    {
      "cell_type": "code",
      "execution_count": 4,
      "metadata": {
        "id": "Mt1iLgHASQRN"
      },
      "outputs": [],
      "source": [
        "# Data Loading\n",
        "\n",
        "pd.set_option('display.max_columns', None)\n",
        "\n",
        "players_21 = pd.read_csv('/content/drive/My Drive/Colab Notebooks/Intro to AI Folder/Mid-Semester Project/players_21.csv')\n",
        "\n",
        "players_22 = pd.read_csv('/content/drive/My Drive/Colab Notebooks/Intro to AI Folder/Mid-Semester Project/players_22.csv')"
      ]
    },
    {
      "cell_type": "code",
      "execution_count": null,
      "metadata": {
        "id": "5gcSiXDYMx4w"
      },
      "outputs": [],
      "source": [
        "players_21.head()\n"
      ]
    },
    {
      "cell_type": "code",
      "execution_count": null,
      "metadata": {
        "id": "5ZWl0g0FNM9M"
      },
      "outputs": [],
      "source": [
        "players_22.head()"
      ]
    },
    {
      "cell_type": "code",
      "execution_count": null,
      "metadata": {
        "id": "7xYvAyMeHbCn"
      },
      "outputs": [],
      "source": [
        "players_21.shape"
      ]
    },
    {
      "cell_type": "code",
      "execution_count": null,
      "metadata": {
        "id": "hyFCpfMIHb_T"
      },
      "outputs": [],
      "source": [
        "players_22.shape"
      ]
    },
    {
      "cell_type": "code",
      "execution_count": null,
      "metadata": {
        "id": "-BdD5DhbNeze"
      },
      "outputs": [],
      "source": [
        "players_21.info()"
      ]
    },
    {
      "cell_type": "code",
      "execution_count": null,
      "metadata": {
        "id": "v5mxIOznNejh"
      },
      "outputs": [],
      "source": [
        "players_22.info()"
      ]
    },
    {
      "cell_type": "code",
      "execution_count": null,
      "metadata": {
        "id": "RloFGkpqTZ_8"
      },
      "outputs": [],
      "source": [
        "# The describe function gives information about only numerical columns.\n",
        "\n",
        "players_21.describe().T.style.background_gradient(cmap='YlGn')"
      ]
    },
    {
      "cell_type": "code",
      "execution_count": null,
      "metadata": {
        "id": "sZ9m1xcvTaD1"
      },
      "outputs": [],
      "source": [
        "# The describe function gives information about only numerical columns.\n",
        "\n",
        "players_22.describe().T.style.background_gradient(cmap='inferno')"
      ]
    },
    {
      "cell_type": "code",
      "execution_count": null,
      "metadata": {
        "id": "MK1sVG8bHvUJ"
      },
      "outputs": [],
      "source": [
        "players_21.hist(bins=40, figsize=(27,17))\n",
        "plt.show()"
      ]
    },
    {
      "cell_type": "code",
      "execution_count": null,
      "metadata": {
        "id": "IN3bSxzLHvHK"
      },
      "outputs": [],
      "source": [
        "players_22.hist(bins=40, figsize=(27,17))\n",
        "plt.show()"
      ]
    },
    {
      "cell_type": "code",
      "execution_count": 5,
      "metadata": {
        "id": "7NDAifTBS_wW"
      },
      "outputs": [],
      "source": [
        "### Rename the column: overall to overall_rating\n",
        "players_21.rename(columns={'overall':'overall_rating', }, inplace=True)\n",
        "\n",
        "players_22.rename(columns={'overall':'overall_rating', }, inplace=True)"
      ]
    },
    {
      "cell_type": "code",
      "execution_count": 6,
      "metadata": {
        "id": "hcVpnmbuUx7I"
      },
      "outputs": [],
      "source": [
        "# select and keep only the columns in where the proportion of missing values is less than or equal to 0.3 (30%)\n",
        "# for players_21\n",
        "players_21 = players_21.loc[:, players_21.isnull().mean() <= .3]\n",
        "# for players_22\n",
        "players_22 = players_22.loc[:, players_22.isnull().mean() <= .3]\n"
      ]
    },
    {
      "cell_type": "code",
      "execution_count": null,
      "metadata": {
        "id": "zd5xvYUsViVb"
      },
      "outputs": [],
      "source": [
        "players_21.shape"
      ]
    },
    {
      "cell_type": "code",
      "execution_count": null,
      "metadata": {
        "id": "hD8fNflPVj-M"
      },
      "outputs": [],
      "source": [
        "players_22.shape"
      ]
    },
    {
      "cell_type": "code",
      "execution_count": null,
      "metadata": {
        "id": "RbDZac56JWy-"
      },
      "outputs": [],
      "source": [
        "### Check for null values.\n",
        "\n",
        "# For players_21\n",
        "nan_values_21 = players_21.isna()\n",
        "nan_columns_21 = nan_values_21.any()\n",
        "\n",
        "# For players_22\n",
        "nan_values_22 = players_22.isna()\n",
        "nan_columns_22 = nan_values_22.any()\n",
        "\n",
        "print(\"\\nplayers_21:\\n\")\n",
        "print(nan_columns_21,\"\\n\")\n",
        "print(\"\\nplayers_22:\\n\")\n",
        "print(nan_columns_22)"
      ]
    },
    {
      "cell_type": "code",
      "execution_count": null,
      "metadata": {
        "id": "nP3L6OLvJr5J"
      },
      "outputs": [],
      "source": [
        "# Print the columns names containing null values or missing values in the form of a list\n",
        "\n",
        "# For players_21\n",
        "missing_values_21 = players_21.isnull().sum()\n",
        "columns_with_missing_values_21 = missing_values_21[missing_values_21 > 0].index.tolist()\n",
        "\n",
        "# For players_22\n",
        "missing_values_22 = players_22.isnull().sum()\n",
        "# Check for columns with more than 30 missing values\n",
        "columns_with_missing_values_22 = missing_values_22[missing_values_22 > 0].index.tolist()\n",
        "\n",
        "print(columns_with_missing_values_21,\"\\n\")\n",
        "print(columns_with_missing_values_22)"
      ]
    },
    {
      "cell_type": "code",
      "execution_count": null,
      "metadata": {
        "id": "0J6YCRj-OvFQ"
      },
      "outputs": [],
      "source": [
        "# Extract Categorical features\n",
        "\n",
        "categorical_cols_21 = players_21.select_dtypes(include=['object']).columns\n",
        "categorical_cols_22 = players_22.select_dtypes(include=['object']).columns\n",
        "print(categorical_cols_21)\n",
        "print(categorical_cols_22)"
      ]
    },
    {
      "cell_type": "code",
      "execution_count": 10,
      "metadata": {
        "id": "YBPZm4DlO6vw"
      },
      "outputs": [],
      "source": [
        "# Categorical features: Forward fill missing values;\n",
        "\n",
        "# for players_21\n",
        "players_21[categorical_cols_21].fillna(method='ffill', inplace=True)\n",
        "\n",
        "# for players_22\n",
        "players_22[categorical_cols_22].fillna(method='ffill', inplace=True)\n"
      ]
    },
    {
      "cell_type": "code",
      "execution_count": null,
      "metadata": {
        "id": "fU6yx6fKJOHW"
      },
      "outputs": [],
      "source": [
        "players_21[categorical_cols_21].head()"
      ]
    },
    {
      "cell_type": "code",
      "execution_count": null,
      "metadata": {
        "id": "H6H8saavIgZQ"
      },
      "outputs": [],
      "source": [
        "\n",
        "# For players_21\n",
        "nan_values_21 = players_21[categorical_cols_21].isna()\n",
        "nan_columns_21 = nan_values_21.any()\n",
        "\n",
        "missing_values_21 = players_21[categorical_cols_21].isnull().sum()\n",
        "columns_with_missing_values_21 = missing_values_21[missing_values_21 > 0].index.tolist()\n",
        "\n",
        "print(missing_values_21)\n",
        "print(columns_with_missing_values_21)"
      ]
    },
    {
      "cell_type": "code",
      "execution_count": 12,
      "metadata": {
        "id": "S2G6_SivFN0S"
      },
      "outputs": [],
      "source": [
        "\n",
        "## Keep the following categorical features for players_21\n",
        "\n",
        "preferred_foot_21 = players_21['preferred_foot']\n",
        "work_rate_21 = players_21['work_rate']\n",
        "\n",
        "## Keep the following categorical features for players_22\n",
        "\n",
        "preferred_foot_22 = players_22['preferred_foot']\n",
        "work_rate_22 = players_22['work_rate']\n",
        "\n"
      ]
    },
    {
      "cell_type": "code",
      "execution_count": 13,
      "metadata": {
        "id": "zEOBL1SkL3dJ"
      },
      "outputs": [],
      "source": [
        "## Eliminating columns: dropping the categorical features\n",
        "\n",
        "players_21.drop(categorical_cols_21, axis=1, inplace=True)\n",
        "players_22.drop(categorical_cols_22, axis=1, inplace=True)\n",
        "\n",
        "# dropping sofifa_id\n",
        "player_21 = players_21.drop(['sofifa_id'], axis=1, inplace=True )\n",
        "player_22 = players_22.drop(['sofifa_id'], axis=1, inplace=True )"
      ]
    },
    {
      "cell_type": "code",
      "execution_count": 14,
      "metadata": {
        "id": "w0J-CEEnFNwb"
      },
      "outputs": [],
      "source": [
        "\n",
        "## Convert categorical features into numeric for players_21\n",
        "preferred_foot_21 = pd.get_dummies(preferred_foot_21, prefix='preferred_foot')\n",
        "work_rate_21 = pd.get_dummies(work_rate_21, prefix='work_rate')\n"
      ]
    },
    {
      "cell_type": "code",
      "execution_count": 15,
      "metadata": {
        "id": "QtviyAZRzlUV"
      },
      "outputs": [],
      "source": [
        "\n",
        "## Convert categorical features into numeric for players_22\n",
        "preferred_foot_22 = pd.get_dummies(preferred_foot_22, prefix='preferred_foot')\n",
        "work_rate_22 = pd.get_dummies(work_rate_22, prefix='work_rate')"
      ]
    },
    {
      "cell_type": "code",
      "source": [
        "work_rate_22\n"
      ],
      "metadata": {
        "id": "lBGhi4OUQCFP"
      },
      "execution_count": null,
      "outputs": []
    },
    {
      "cell_type": "code",
      "source": [
        "preferred_foot_22"
      ],
      "metadata": {
        "id": "kHKZog_MQFng"
      },
      "execution_count": null,
      "outputs": []
    },
    {
      "cell_type": "code",
      "execution_count": 17,
      "metadata": {
        "id": "mQxYnZQcFNsQ"
      },
      "outputs": [],
      "source": [
        "## At this point players_21 and players_22 only have numeric features in the dataset. Lets impute the missing values.\n",
        "\n",
        "# for players_21\n",
        "imp = SimpleImputer()\n",
        "imputed_data_21 = imp.fit_transform(players_21)\n",
        "players_21 = pd.DataFrame(imputed_data_21, columns=players_21.columns)\n",
        "\n",
        "\n",
        "# for players_22\n",
        "imp = SimpleImputer()\n",
        "imputed_data_22 = imp.fit_transform(players_22)\n",
        "players_22 = pd.DataFrame(imputed_data_22, columns=players_22.columns)\n"
      ]
    },
    {
      "cell_type": "code",
      "execution_count": 18,
      "metadata": {
        "id": "uzUuNrkjFNlL"
      },
      "outputs": [],
      "source": [
        "# Join both transformed numeric and non-numeric columns to form fully numeric columns\n",
        "players_21 = pd.concat([players_21, preferred_foot_21, work_rate_21,], axis=1)\n",
        "\n",
        "players_22 = pd.concat([players_22, preferred_foot_22, work_rate_22], axis=1)\n"
      ]
    },
    {
      "cell_type": "code",
      "execution_count": null,
      "metadata": {
        "id": "ktnG2oSFDu9T"
      },
      "outputs": [],
      "source": [
        "players_21.info()"
      ]
    },
    {
      "cell_type": "code",
      "execution_count": null,
      "metadata": {
        "id": "ahZFNRKpE35e"
      },
      "outputs": [],
      "source": [
        "players_22.info()"
      ]
    },
    {
      "cell_type": "code",
      "execution_count": null,
      "metadata": {
        "colab": {
          "base_uri": "https://localhost:8080/"
        },
        "id": "6Wb50xuKBJvM",
        "outputId": "940672ea-4d10-4ff0-fbee-8329edcedd86"
      },
      "outputs": [
        {
          "data": {
            "text/plain": [
              "(18944, 67)"
            ]
          },
          "execution_count": 256,
          "metadata": {},
          "output_type": "execute_result"
        }
      ],
      "source": [
        "players_21.shape"
      ]
    },
    {
      "cell_type": "code",
      "execution_count": null,
      "metadata": {
        "id": "WT55GaJLBJpA"
      },
      "outputs": [],
      "source": [
        "players_22.shape"
      ]
    },
    {
      "cell_type": "code",
      "execution_count": null,
      "metadata": {
        "id": "G2vRVq9-OOMS"
      },
      "outputs": [],
      "source": [
        "### Check for null values again\n",
        "\n",
        "# For players_21\n",
        "nan_values_21 = players_21.isna()\n",
        "nan_columns_21 = nan_values_21.any()\n",
        "\n",
        "# For players_22\n",
        "nan_values_22 = players_22.isna()\n",
        "nan_columns_22 = nan_values_22.any()\n",
        "\n",
        "print(\"\\nplayers_21:\\n\")\n",
        "print(nan_columns_21,\"\\n\")\n",
        "print(\"\\nplayers_22:\\n\")\n",
        "print(nan_columns_22)"
      ]
    },
    {
      "cell_type": "code",
      "execution_count": 20,
      "metadata": {
        "id": "riTJ9u-UEs11",
        "colab": {
          "base_uri": "https://localhost:8080/"
        },
        "outputId": "9a55f863-1d04-4232-8aa9-dcf89f9c9f7e"
      },
      "outputs": [
        {
          "output_type": "stream",
          "name": "stdout",
          "text": [
            "[]\n",
            "[]\n"
          ]
        }
      ],
      "source": [
        "# Again print the columns names containing null values or missing values in the form of a list\n",
        "\n",
        "# For players_21\n",
        "missing_values_21 = players_21.isnull().sum()\n",
        "columns_with_missing_values_21 = missing_values_21[missing_values_21 > 0].index.tolist()\n",
        "\n",
        "# For players_22\n",
        "missing_values_22 = players_22.isnull().sum()\n",
        "columns_with_missing_values_22 = missing_values_22[missing_values_22 > 0].index.tolist()\n",
        "\n",
        "\n",
        "print(columns_with_missing_values_21)\n",
        "print(columns_with_missing_values_22)"
      ]
    },
    {
      "cell_type": "markdown",
      "metadata": {
        "id": "MvcoZqFXDY0Q"
      },
      "source": [
        "### Feature Selection"
      ]
    },
    {
      "cell_type": "code",
      "execution_count": null,
      "metadata": {
        "id": "MSRaVCN-RJAa"
      },
      "outputs": [],
      "source": [
        "# Calculate the correlation between each feature and the target variable\n",
        "correlation_matrix = players_21.corr()\n",
        "target_correlation = correlation_matrix['overall_rating'].drop('overall_rating')\n",
        "\n",
        "# Select the top-k features with the highest absolute correlation\n",
        "k = 20\n",
        "top_k_features = target_correlation[target_correlation > 0.5].abs().nlargest(k).index\n",
        "\n",
        "# Collect the column names of top_k_features in a list and store it in the 'selected_features' variable\n",
        "selected_features = top_k_features.tolist()\n",
        "\n",
        "# Display the selected features and their correlation with the target variable\n",
        "print(f\"\\nTop {k} features with maximum correlation with the target variable:\\n\")\n",
        "print(players_21[top_k_features])\n",
        "\n",
        "\n",
        "#The correlation matrix produces the same results for players_22\n",
        "'''\n",
        "# Calculate the correlation between each feature and the target variable\n",
        "correlation_matrix = players_22.corr()\n",
        "target_correlation = correlation_matrix['overall_rating'].drop('overall_rating')\n",
        "\n",
        "# Select the top-k features with the highest absolute correlation\n",
        "k = 20\n",
        "top_k_features = target_correlation[target_correlation > 0.5].abs().nlargest(k).index\n",
        "\n",
        "# Collect the column names of top_k_features in a list and store it in the 'selected_features' variable\n",
        "selected_features = top_k_features.tolist()\n",
        "\n",
        "# Display the selected features and their correlation with the target variable\n",
        "print(f\"\\nTop {k} features with maximum correlation with the target variable:\\n\")\n",
        "print(players_21[top_k_features])\n",
        "\n",
        "print(selected_features)\n",
        "'''\n"
      ]
    },
    {
      "cell_type": "code",
      "execution_count": null,
      "metadata": {
        "id": "h2Gx0W2VSMMA"
      },
      "outputs": [],
      "source": [
        "# List of features that would be trained\n",
        "selected_features"
      ]
    },
    {
      "cell_type": "code",
      "execution_count": 23,
      "metadata": {
        "id": "Xbqg_OpXSo58"
      },
      "outputs": [],
      "source": [
        "# Select the the independent (X) and dependent (Y) variables from the DataFrame\n",
        "X = players_21[selected_features]\n",
        "y = players_21['overall_rating']"
      ]
    },
    {
      "cell_type": "code",
      "execution_count": null,
      "metadata": {
        "id": "NF7AeDJ2XEjz"
      },
      "outputs": [],
      "source": [
        "X.head()"
      ]
    },
    {
      "cell_type": "code",
      "execution_count": null,
      "metadata": {
        "id": "MKVL4RWBXG_a"
      },
      "outputs": [],
      "source": [
        "y.head()"
      ]
    },
    {
      "cell_type": "code",
      "execution_count": 24,
      "metadata": {
        "id": "GttWG7n4XhXt"
      },
      "outputs": [],
      "source": [
        "scaler = StandardScaler()\n",
        "X_scaled = scaler.fit_transform(X)\n",
        "X = pd.DataFrame(X_scaled, columns=X.columns)"
      ]
    },
    {
      "cell_type": "markdown",
      "metadata": {
        "id": "7tUfwiyvVJKb"
      },
      "source": [
        "### Model Creation and Training"
      ]
    },
    {
      "cell_type": "code",
      "execution_count": 25,
      "metadata": {
        "id": "78X9DRHlPMGw"
      },
      "outputs": [],
      "source": [
        "# Split the data into training and testing sets\n",
        "x_train, x_test, y_train, y_test = train_test_split(X, y, test_size=0.2, random_state=42)"
      ]
    },
    {
      "cell_type": "code",
      "source": [
        "# Model 1 : Support Vector Regression\n",
        "svr_model = SVR(kernel='linear')  # You can choose the kernel you prefer\n",
        "svr_model.fit(x_train, y_train)\n",
        "y_pred = svr_model.predict(x_test)\n",
        "\n",
        "# Evaluate the  model\n",
        "mae = mean_absolute_error(y_test, y_pred)\n",
        "mse = mean_squared_error(y_test, y_pred)\n",
        "r2 = r2_score(y_test, y_pred)\n",
        "\n",
        "print('\\nAccuracy: {}'.format(svr_model.score(x_test, y_test)))\n",
        "print(\"mean_absolute_error:\", mae)\n",
        "print(\"mean_squared_error:\", mse)\n",
        "print(\"r2_score:\", r2)\n"
      ],
      "metadata": {
        "colab": {
          "base_uri": "https://localhost:8080/"
        },
        "id": "PrgEPkKLtRRE",
        "outputId": "171bcedf-e5af-4066-8868-07c607059b4d"
      },
      "execution_count": 26,
      "outputs": [
        {
          "output_type": "stream",
          "name": "stdout",
          "text": [
            "\n",
            "Accuracy: 0.8477588904695607\n",
            "mean_absolute_error: 2.0666417628990468\n",
            "mean_squared_error: 7.17588075996295\n",
            "r2_score: 0.8477588904695607\n"
          ]
        }
      ]
    },
    {
      "cell_type": "code",
      "execution_count": 27,
      "metadata": {
        "id": "N2sBqzf8eufW",
        "colab": {
          "base_uri": "https://localhost:8080/"
        },
        "outputId": "93774d61-a5b7-4ba8-b7fa-96f54da482f2"
      },
      "outputs": [
        {
          "output_type": "stream",
          "name": "stdout",
          "text": [
            "\n",
            "Accuracy: 0.19398258115597783\n",
            "mean_absolute_error: 1.8915281076801267\n",
            "mean_squared_error: 7.1430456584850885\n",
            "r2_score: 0.8484555091074322\n",
            "\n",
            "confusion_matrix:\n",
            " [[2 0 1 ... 0 0 0]\n",
            " [4 1 3 ... 0 0 0]\n",
            " [0 0 1 ... 0 0 0]\n",
            " ...\n",
            " [0 0 0 ... 0 1 0]\n",
            " [0 0 0 ... 0 1 0]\n",
            " [0 0 0 ... 0 1 0]]\n",
            "\n",
            "\n",
            "classification_report:\n",
            "               precision    recall  f1-score   support\n",
            "\n",
            "        47.0       0.22      0.67      0.33         3\n",
            "        48.0       0.12      0.09      0.11        11\n",
            "        49.0       0.04      0.12      0.06         8\n",
            "        50.0       0.23      0.39      0.29        23\n",
            "        51.0       0.00      0.00      0.00        37\n",
            "        52.0       0.25      0.87      0.39        46\n",
            "        53.0       0.00      0.00      0.00        41\n",
            "        54.0       0.03      0.03      0.03        36\n",
            "        55.0       0.06      0.05      0.05        66\n",
            "        56.0       0.15      0.49      0.23        63\n",
            "        57.0       0.04      0.02      0.03        96\n",
            "        58.0       0.15      0.08      0.10       105\n",
            "        59.0       0.08      0.03      0.04       107\n",
            "        60.0       0.18      0.25      0.21       161\n",
            "        61.0       0.12      0.08      0.10       148\n",
            "        62.0       0.16      0.20      0.18       210\n",
            "        63.0       0.15      0.08      0.11       233\n",
            "        64.0       0.15      0.14      0.14       219\n",
            "        65.0       0.19      0.36      0.25       226\n",
            "        66.0       0.14      0.08      0.10       244\n",
            "        67.0       0.20      0.21      0.21       247\n",
            "        68.0       0.24      0.16      0.20       203\n",
            "        69.0       0.25      0.24      0.24       191\n",
            "        70.0       0.23      0.31      0.26       176\n",
            "        71.0       0.23      0.18      0.20       146\n",
            "        72.0       0.29      0.34      0.31       152\n",
            "        73.0       0.17      0.13      0.15       115\n",
            "        74.0       0.27      0.23      0.25        90\n",
            "        75.0       0.23      0.27      0.25        92\n",
            "        76.0       0.28      0.14      0.18        66\n",
            "        77.0       0.40      0.26      0.32        69\n",
            "        78.0       0.19      0.34      0.24        29\n",
            "        79.0       0.21      0.27      0.24        26\n",
            "        80.0       0.27      0.12      0.17        32\n",
            "        81.0       0.17      0.14      0.15        21\n",
            "        82.0       0.17      0.22      0.19         9\n",
            "        83.0       0.29      0.50      0.36         8\n",
            "        84.0       0.67      0.15      0.25        13\n",
            "        85.0       0.30      0.75      0.43         4\n",
            "        86.0       1.00      0.25      0.40         4\n",
            "        87.0       0.67      0.25      0.36         8\n",
            "        88.0       0.20      1.00      0.33         1\n",
            "        89.0       0.00      0.00      0.00         1\n",
            "        90.0       0.00      0.00      0.00         1\n",
            "        91.0       0.25      1.00      0.40         1\n",
            "        93.0       0.00      0.00      0.00         1\n",
            "\n",
            "    accuracy                           0.19      3789\n",
            "   macro avg       0.21      0.25      0.19      3789\n",
            "weighted avg       0.19      0.19      0.18      3789\n",
            "\n"
          ]
        }
      ],
      "source": [
        "# Model 2 : Naive Bayes Algorithm\n",
        "\n",
        "nb_model = GaussianNB()\n",
        "nb_model.fit(x_train, y_train)\n",
        "\n",
        "y_pred = nb_model.predict(x_test)\n",
        "\n",
        "# Evaluate the model\n",
        "mae = mean_absolute_error(y_test, y_pred)\n",
        "mse = mean_squared_error(y_test, y_pred)\n",
        "r2 = r2_score(y_test, y_pred)\n",
        "\n",
        "print('\\nAccuracy: {}'.format(nb_model.score(x_test, y_test)))\n",
        "print(\"mean_absolute_error:\",mae)\n",
        "print(\"mean_squared_error:\",mse)\n",
        "print(\"r2_score:\",r2)\n",
        "print(\"\\nconfusion_matrix:\\n\",confusion_matrix(y_test, y_pred))\n",
        "print(\"\\n\\nclassification_report:\\n\",classification_report(y_test, y_pred))"
      ]
    },
    {
      "cell_type": "markdown",
      "source": [
        "Ensemble Models"
      ],
      "metadata": {
        "id": "N2V4gKrLf5FQ"
      }
    },
    {
      "cell_type": "code",
      "source": [
        "# Model 3: Train RandomForest, XGBoost and Gradient Boost Regressors models with cv and grid search:\n",
        "models = {\n",
        "    'RandomForest': RandomForestRegressor(),\n",
        "    'XGBoost': XGBRegressor(),\n",
        "    'GradientBoost': GradientBoostingRegressor()\n",
        "}\n",
        "\n",
        "params = {\n",
        "    'RandomForest': {'n_estimators': [4, 5], 'max_depth': [None, 5]},\n",
        "    'XGBoost': {'n_estimators': [5, 6], 'learning_rate': [0.01, 0.1]},\n",
        "    'GradientBoost': {'n_estimators': [4, 6], 'learning_rate': [0.01, 0.1]}\n",
        "}\n",
        "\n",
        "for name, model in models.items():\n",
        "    gs = GridSearchCV(model, params[name], cv=5)\n",
        "    gs.fit(x_train, y_train)\n",
        "    # Make predictions using the best model from GridSearchCV\n",
        "    y_pred = gs.predict(x_test)\n",
        "\n",
        "    # Evaluate the model\n",
        "    mae = mean_absolute_error(y_test, y_pred)\n",
        "    mse = mean_squared_error(y_test, y_pred)\n",
        "    r2 = r2_score(y_test, y_pred)\n",
        "\n",
        "    print(f\"\\nBest parameters for {name}: {gs.best_params_}\")\n",
        "    print(f\"Validation score for {name}: {gs.score(x_test, y_test)}\")\n",
        "    print(f\"mean_absolute_error for {name}: {mae}\")\n",
        "    print(f\"mean_squared_error for {name}: {mse}\",)\n",
        "    print(f\"r2_score for {name}: {r2}\\n\")"
      ],
      "metadata": {
        "colab": {
          "base_uri": "https://localhost:8080/"
        },
        "id": "7xTYwGepWpQg",
        "outputId": "2b12ea0f-ed83-497b-e290-db9bcc82a91b"
      },
      "execution_count": 28,
      "outputs": [
        {
          "output_type": "stream",
          "name": "stdout",
          "text": [
            "\n",
            "Best parameters for RandomForest: {'max_depth': None, 'n_estimators': 5}\n",
            "Validation score for RandomForest: 0.9696673608777812\n",
            "mean_absolute_error for RandomForest: 0.6797044074953817\n",
            "mean_squared_error for RandomForest: 1.4297281604645025\n",
            "r2_score for RandomForest: 0.9696673608777812\n",
            "\n",
            "\n",
            "Best parameters for XGBoost: {'learning_rate': 0.1, 'n_estimators': 6}\n",
            "Validation score for XGBoost: 0.6691706025960477\n",
            "mean_absolute_error for XGBoost: 3.1152940721428783\n",
            "mean_squared_error for XGBoost: 15.59363508965033\n",
            "r2_score for XGBoost: 0.6691706025960477\n",
            "\n",
            "\n",
            "Best parameters for GradientBoost: {'learning_rate': 0.1, 'n_estimators': 6}\n",
            "Validation score for GradientBoost: 0.617732414468092\n",
            "mean_absolute_error for GradientBoost: 3.3292335705651377\n",
            "mean_squared_error for GradientBoost: 18.018172756599938\n",
            "r2_score for GradientBoost: 0.617732414468092\n",
            "\n"
          ]
        }
      ]
    },
    {
      "cell_type": "code",
      "source": [
        "'''\n",
        "Mean Squared Error (MSE) is a common metric for regression problems, and it measures the average of the squared differences between the predicted values and the actual values.\n",
        "A lower MSE indicates that the model's predictions are, on average, closer to the true values.  Lower MSE often corresponds to better model performance.\n",
        "'''\n",
        "\n",
        "rf_model = RandomForestRegressor(\n",
        "    n_estimators=100,\n",
        "    max_depth=None,\n",
        "    min_samples_split=2,\n",
        "    min_samples_leaf=1,\n",
        "    max_features='auto',\n",
        "    random_state=42\n",
        ")\n",
        "\n",
        "# Train the model\n",
        "rf_model.fit(x_train, y_train)\n",
        "y_pred = gs.predict(x_test)\n",
        "\n",
        "# Evaluate the model\n",
        "mae = mean_absolute_error(y_test, y_pred)\n",
        "mse = mean_squared_error(y_test, y_pred)\n",
        "r2 = r2_score(y_test, y_pred)\n",
        "\n",
        "print(\"mean_absolute_error:\",mae)\n",
        "print(\"mean_squared_error:\",mse)\n",
        "print(\"r2_score:\",r2)\n"
      ],
      "metadata": {
        "id": "fEF_nZ_YclCT",
        "colab": {
          "base_uri": "https://localhost:8080/"
        },
        "outputId": "a17e21c9-9a1a-4b2d-ecc3-26596b0c0e23"
      },
      "execution_count": 47,
      "outputs": [
        {
          "output_type": "stream",
          "name": "stdout",
          "text": [
            "mean_absolute_error: 3.3292335705651395\n",
            "mean_squared_error: 18.01817275659995\n",
            "r2_score: 0.6177324144680919\n"
          ]
        }
      ]
    },
    {
      "cell_type": "code",
      "source": [
        "# Model 4: VotingClassifier\n",
        "\n",
        "decision_tree = DecisionTreeClassifier(random_state=42, criterion='entropy')\n",
        "knn = KNeighborsClassifier(n_neighbors=8)\n",
        "svm = SVC(probability=True, random_state=42)\n",
        "\n",
        "voting_classifier = VotingClassifier(estimators=[\n",
        "    ('decision_tree', decision_tree),\n",
        "    ('knn', knn),\n",
        "    ('svm', svm)\n",
        "], voting='soft')\n",
        "\n",
        "for model in (decision_tree, knn, svm,voting_classifier):\n",
        "  model.fit(x_train,y_train)\n",
        "  y_pred=model.predict(x_test)\n",
        "  print(model.__class__.__name__,accuracy_score(y_pred,y_test))"
      ],
      "metadata": {
        "colab": {
          "base_uri": "https://localhost:8080/"
        },
        "id": "-tV59phsbJzr",
        "outputId": "c1b5a25e-5f08-47bb-8619-60fd2f6498f5"
      },
      "execution_count": 30,
      "outputs": [
        {
          "output_type": "stream",
          "name": "stdout",
          "text": [
            "DecisionTreeClassifier 0.665083135391924\n",
            "KNeighborsClassifier 0.22063869094747954\n",
            "SVC 0.23621008181578254\n",
            "VotingClassifier 0.6648192135128002\n"
          ]
        }
      ]
    },
    {
      "cell_type": "code",
      "source": [
        "# Model 5: RandomForestClassifier\n",
        "\n",
        "rfc=RandomForestClassifier(n_estimators=20, max_depth=3, criterion='entropy')\n",
        "\n",
        "# Perform cross-validation\n",
        "cv_scores = cross_val_score(rfc, x_train, y_train, cv=5)\n",
        "print(f\"\\nCross-validation scores: {cv_scores}\")\n",
        "print(f\"\\nMean cross-validation score: {cv_scores.mean()}\")\n",
        "\n",
        "# Fit the model\n",
        "rfc.fit(x_train,y_train)\n",
        "y_pred=rfc.predict(x_test)\n",
        "accuracy_score(y_pred,y_test)\n",
        "print('\\nAccuracy of the model:',accuracy_score(y_pred,y_test))\n",
        "\n",
        "# Evaluate the model\n",
        "mae = mean_absolute_error(y_test, y_pred)\n",
        "mse = mean_squared_error(y_test, y_pred)\n",
        "r2 = r2_score(y_test, y_pred)\n",
        "print(\"\\nmean_absolute_error of the model:\",mae)\n",
        "print(\"\\nmean_squared_error of the model:\",mse)\n",
        "print(\"\\nr2_score of the model:\",r2)\n",
        "\n",
        "# Fine-tune the model (RandomForestClassifier) with GridSearchCV\n",
        "n_estimators_range = list(range(1, 31))\n",
        "\n",
        "# Create a parameter grid: map the parameter names to the values that should be searched\n",
        "param_grid = dict(n_estimators=n_estimators_range)\n",
        "\n",
        "grid = GridSearchCV(RandomForestClassifier(max_depth=3, criterion='entropy'), param_grid, cv=10, scoring='accuracy')\n",
        "grid.fit(x_train, y_train)\n",
        "\n",
        "rfc=RandomForestClassifier(n_estimators=grid.best_params_['n_estimators'], max_depth=3, criterion='entropy')\n",
        "rfc.fit(x_train,y_train)\n",
        "y_pred=rfc.predict(x_test)\n",
        "accuracy_score(y_pred,y_test)\n",
        "\n",
        "# Evaluate the model\n",
        "mae = mean_absolute_error(y_test, y_pred)\n",
        "mse = mean_squared_error(y_test, y_pred)\n",
        "r2 = r2_score(y_test, y_pred)\n",
        "\n",
        "# Examine the best model\n",
        "print(\"\\ngrid.best_score:\",grid.best_score_)\n",
        "print(\"\\ngrid.best_params:\",grid.best_params_)\n",
        "print(\"\\ngrid.best_estimator:\",grid.best_estimator_)\n",
        "print(\"\\nAccuracy of the best model:\", accuracy_score(y_pred,y_test))\n",
        "print(\"\\nmean_absolute_error of the best model:\",mae)\n",
        "print(\"\\nmean_squared_error of the best model:\",mse)\n",
        "print(\"\\nr2_score of the best model:\",r2)"
      ],
      "metadata": {
        "colab": {
          "base_uri": "https://localhost:8080/"
        },
        "id": "KHPPe-AhbJw7",
        "outputId": "5a2afdd9-d02f-402e-8c95-905350ee3bd9"
      },
      "execution_count": null,
      "outputs": [
        {
          "output_type": "stream",
          "name": "stdout",
          "text": [
            "\n",
            "Cross-validation scores: [0.21840977 0.23292643 0.21412075 0.22038931 0.20884197]\n",
            "\n",
            "Mean cross-validation score: 0.2189376443418014\n",
            "\n",
            "Accuracy of the model: 0.2288202692003167\n",
            "\n",
            "mean_absolute_error of the model: 1.9216152019002375\n",
            "\n",
            "mean_squared_error of the model: 7.5178147268408555\n",
            "\n",
            "r2_score of the model: 0.8405045326778203\n",
            "\n",
            "grid.best_score: 0.23615938242900808\n",
            "\n",
            "grid.best_params: {'n_estimators': 29}\n",
            "\n",
            "grid.best_estimator: RandomForestClassifier(criterion='entropy', max_depth=3, n_estimators=29)\n",
            "\n",
            "Accuracy of the best model: 0.24491950382686725\n",
            "\n",
            "mean_absolute_error of the best model: 1.8160464502507259\n",
            "\n",
            "mean_squared_error of the best model: 6.775666402744788\n",
            "\n",
            "r2_score of the best model: 0.8562497057201222\n"
          ]
        }
      ]
    },
    {
      "cell_type": "code",
      "source": [
        "# correlation between variables in selected_features and the target variable; overall_rating\n",
        "for name, score in zip(x_train.columns, rfc.feature_importances_):\n",
        "  print(name, score)"
      ],
      "metadata": {
        "colab": {
          "base_uri": "https://localhost:8080/"
        },
        "id": "Y6ccibtPbJuY",
        "outputId": "4c0c199e-c504-4801-af92-c9661352baff"
      },
      "execution_count": null,
      "outputs": [
        {
          "output_type": "stream",
          "name": "stdout",
          "text": [
            "movement_reactions 0.14793608996905724\n",
            "mentality_composure 0.060693491831259154\n",
            "passing 0.018120212282072532\n",
            "potential 0.06702624107257597\n",
            "release_clause_eur 0.30874818335214455\n",
            "dribbling 0.025968663226857383\n",
            "wage_eur 0.053564882417003586\n",
            "power_shot_power 0.0\n",
            "value_eur 0.27982648535339416\n",
            "mentality_vision 0.0\n",
            "attacking_short_passing 0.03811575049563539\n"
          ]
        }
      ]
    },
    {
      "cell_type": "markdown",
      "source": [
        "### Testing the models using players_22"
      ],
      "metadata": {
        "id": "TiPw9vUISIaV"
      }
    },
    {
      "cell_type": "code",
      "source": [
        "x_test_22 = players_22[selected_features]\n",
        "y_test_22 = players_22['overall_rating']\n",
        "\n",
        "scaler = StandardScaler()\n",
        "x_test_22_scaled = scaler.fit_transform(x_test_22)\n",
        "x_test_22 = pd.DataFrame(x_test_22_scaled, columns=x_test_22.columns)"
      ],
      "metadata": {
        "id": "DwDvs_dSSEgs"
      },
      "execution_count": 32,
      "outputs": []
    },
    {
      "cell_type": "code",
      "source": [
        "1# testing players_22 on Support Vector Regression\n",
        "svr_model = SVR(kernel='linear')  # You can choose the kernel you prefer\n",
        "svr_model.fit(x_train, y_train)\n",
        "y_pred = svr_model.predict(x_test)\n",
        "\n",
        "# Evaluate the  model\n",
        "mae = mean_absolute_error(y_test, y_pred)\n",
        "mse = mean_squared_error(y_test, y_pred)\n",
        "r2 = r2_score(y_test, y_pred)\n",
        "\n",
        "print('\\nAccuracy: {}'.format(svr_model.score(x_test, y_test)))\n",
        "print(\"mean_absolute_error:\", mae)\n",
        "print(\"mean_squared_error:\", mse)\n",
        "print(\"r2_score:\", r2)"
      ],
      "metadata": {
        "colab": {
          "base_uri": "https://localhost:8080/"
        },
        "id": "sGiYFNcvUnqH",
        "outputId": "f69cc690-606d-47fa-b12a-40053cc1a52f"
      },
      "execution_count": null,
      "outputs": [
        {
          "output_type": "stream",
          "name": "stdout",
          "text": [
            "\n",
            "Accuracy: 0.8477588904695607\n",
            "mean_absolute_error: 2.0666417628990468\n",
            "mean_squared_error: 7.17588075996295\n",
            "r2_score: 0.8477588904695607\n"
          ]
        }
      ]
    },
    {
      "cell_type": "code",
      "source": [
        "2# testing players_22 on Naive Bayes Algorithm\n",
        "\n",
        "nb_model = GaussianNB()\n",
        "nb_model.fit(x_train, y_train)\n",
        "\n",
        "y_pred = nb_model.predict(x_test_22)\n",
        "\n",
        "# Evaluate the model\n",
        "mae = mean_absolute_error(y_test_22, y_pred)\n",
        "mse = mean_squared_error(y_test_22, y_pred)\n",
        "r2 = r2_score(y_test_22, y_pred)\n",
        "\n",
        "print('\\nAccuracy: {}'.format(nb_model.score(x_test_22, y_test_22)))\n",
        "print(\"mean_absolute_error:\",mae)\n",
        "print(\"mean_squared_error:\",mse)\n",
        "print(\"r2_score:\",r2)\n",
        "print(\"\\nconfusion_matrix:\\n\",confusion_matrix(y_test_22, y_pred))\n",
        "print(\"\\n\\nclassification_report:\\n\",classification_report(y_test_22, y_pred))"
      ],
      "metadata": {
        "colab": {
          "base_uri": "https://localhost:8080/"
        },
        "id": "nlOWdFd7XQ_u",
        "outputId": "24ba2de3-50fa-483a-bf80-db69790c9c09"
      },
      "execution_count": null,
      "outputs": [
        {
          "output_type": "stream",
          "name": "stdout",
          "text": [
            "\n",
            "Accuracy: 0.1849888247829929\n",
            "mean_absolute_error: 1.910130464161339\n",
            "mean_squared_error: 6.791257341857685\n",
            "r2_score: 0.8565281631890704\n",
            "\n",
            "confusion_matrix:\n",
            " [[0 0 0 ... 0 0 0]\n",
            " [0 0 0 ... 0 0 0]\n",
            " [0 0 0 ... 0 0 0]\n",
            " ...\n",
            " [0 0 0 ... 3 0 0]\n",
            " [0 0 0 ... 1 0 0]\n",
            " [0 0 0 ... 0 0 0]]\n",
            "\n",
            "\n",
            "classification_report:\n",
            "               precision    recall  f1-score   support\n",
            "\n",
            "        47.0       0.00      0.00      0.00        19\n",
            "        48.0       0.00      0.00      0.00        45\n",
            "        49.0       0.00      0.00      0.00        75\n",
            "        50.0       0.00      0.00      0.00        97\n",
            "        51.0       0.21      0.71      0.32       136\n",
            "        52.0       0.00      0.00      0.00       209\n",
            "        53.0       0.24      0.41      0.30       232\n",
            "        54.0       0.22      0.18      0.20       293\n",
            "        55.0       0.16      0.20      0.18       336\n",
            "        56.0       0.19      0.39      0.25       362\n",
            "        57.0       0.04      0.02      0.03       439\n",
            "        58.0       0.16      0.15      0.15       491\n",
            "        59.0       0.06      0.01      0.02       553\n",
            "        60.0       0.16      0.28      0.20       783\n",
            "        61.0       0.13      0.09      0.11       775\n",
            "        62.0       0.17      0.18      0.18      1023\n",
            "        63.0       0.14      0.09      0.11      1127\n",
            "        64.0       0.16      0.15      0.16      1188\n",
            "        65.0       0.21      0.31      0.25      1251\n",
            "        66.0       0.16      0.11      0.13      1137\n",
            "        67.0       0.22      0.27      0.24      1195\n",
            "        68.0       0.15      0.09      0.11      1069\n",
            "        69.0       0.20      0.24      0.22       939\n",
            "        70.0       0.15      0.28      0.20       872\n",
            "        71.0       0.16      0.11      0.13       766\n",
            "        72.0       0.18      0.20      0.19       733\n",
            "        73.0       0.24      0.17      0.20       665\n",
            "        74.0       0.20      0.13      0.16       462\n",
            "        75.0       0.31      0.32      0.32       503\n",
            "        76.0       0.23      0.11      0.15       328\n",
            "        77.0       0.25      0.17      0.20       273\n",
            "        78.0       0.20      0.24      0.22       200\n",
            "        79.0       0.29      0.29      0.29       154\n",
            "        80.0       0.23      0.15      0.18       121\n",
            "        81.0       0.23      0.22      0.23       104\n",
            "        82.0       0.25      0.15      0.19        85\n",
            "        83.0       0.20      0.36      0.25        59\n",
            "        84.0       0.13      0.09      0.11        43\n",
            "        85.0       0.31      0.54      0.39        28\n",
            "        86.0       0.57      0.18      0.28        22\n",
            "        87.0       0.60      0.35      0.44        17\n",
            "        88.0       0.18      0.38      0.24         8\n",
            "        89.0       1.00      0.18      0.31        11\n",
            "        90.0       0.30      0.75      0.43         4\n",
            "        91.0       0.43      0.60      0.50         5\n",
            "        92.0       0.00      0.00      0.00         1\n",
            "        93.0       0.00      0.00      0.00         1\n",
            "\n",
            "    accuracy                           0.18     19239\n",
            "   macro avg       0.21      0.21      0.19     19239\n",
            "weighted avg       0.18      0.18      0.17     19239\n",
            "\n"
          ]
        }
      ]
    },
    {
      "cell_type": "code",
      "source": [
        "3# testing players_22 on RandomForest, XGBoost, Gradient Boost Regressors\n",
        "models = {\n",
        "    'RandomForest': RandomForestRegressor(),\n",
        "    'XGBoost': XGBRegressor(),\n",
        "    'GradientBoost': GradientBoostingRegressor()\n",
        "}\n",
        "\n",
        "params = {\n",
        "    'RandomForest': {'n_estimators': [4, 5], 'max_depth': [None, 5]},\n",
        "    'XGBoost': {'n_estimators': [5, 6], 'learning_rate': [0.01, 0.1]},\n",
        "    'GradientBoost': {'n_estimators': [4, 6], 'learning_rate': [0.01, 0.1]}\n",
        "}\n",
        "\n",
        "for name, m in models.items():\n",
        "    gs = GridSearchCV(m, params[name], cv=5)\n",
        "    gs.fit(x_train, y_train)\n",
        "    # Make predictions using the best model from GridSearchCV\n",
        "    y_pred = gs.predict(x_test_22)\n",
        "\n",
        "    # Evaluate the model\n",
        "    mae = mean_absolute_error(y_test_22, y_pred)\n",
        "    mse = mean_squared_error(y_test_22, y_pred)\n",
        "    r2 = r2_score(y_test_22, y_pred)\n",
        "\n",
        "    #print('\\nAccuracy: {}'.format(nb_model.score(x_test, y_test)))\n",
        "    print(f\"\\nBest parameters for {name}: {gs.best_params_}\")\n",
        "    print(f\"Validation score for {name}: {gs.score(x_test_22, y_test_22)}\")\n",
        "    #print()\n",
        "    print(f\"mean_absolute_error for {name}: {mae}\")\n",
        "    print(f\"mean_squared_error for {name}: {mse}\",)\n",
        "    print(f\"r2_score for {name}: {r2}\\n\")"
      ],
      "metadata": {
        "colab": {
          "base_uri": "https://localhost:8080/"
        },
        "id": "bzL5A5NSSEVc",
        "outputId": "c5d4b400-ec9d-49e4-f0c9-b625e7a9e309"
      },
      "execution_count": 33,
      "outputs": [
        {
          "output_type": "stream",
          "name": "stdout",
          "text": [
            "\n",
            "Best parameters for RandomForest: {'max_depth': None, 'n_estimators': 4}\n",
            "Validation score for RandomForest: 0.8146683246493853\n",
            "mean_absolute_error for RandomForest: 1.6747102240241176\n",
            "mean_squared_error for RandomForest: 8.772698035240916\n",
            "r2_score for RandomForest: 0.8146683246493853\n",
            "\n",
            "\n",
            "Best parameters for XGBoost: {'learning_rate': 0.1, 'n_estimators': 6}\n",
            "Validation score for XGBoost: 0.5656424234617328\n",
            "mean_absolute_error for XGBoost: 3.499764002709721\n",
            "mean_squared_error for XGBoost: 20.560370217775755\n",
            "r2_score for XGBoost: 0.5656424234617328\n",
            "\n",
            "\n",
            "Best parameters for GradientBoost: {'learning_rate': 0.1, 'n_estimators': 6}\n",
            "Validation score for GradientBoost: 0.5580868131716421\n",
            "mean_absolute_error for GradientBoost: 3.5685725882229438\n",
            "mean_squared_error for GradientBoost: 20.918015975963222\n",
            "r2_score for GradientBoost: 0.5580868131716421\n",
            "\n"
          ]
        }
      ]
    },
    {
      "cell_type": "code",
      "execution_count": null,
      "metadata": {
        "id": "9REQyTfUdjrm",
        "colab": {
          "base_uri": "https://localhost:8080/"
        },
        "outputId": "a7d5517b-81ee-4ff1-a71d-9d2ac0df0360"
      },
      "outputs": [
        {
          "output_type": "stream",
          "name": "stdout",
          "text": [
            "DecisionTreeClassifier 0.49259317012318726\n",
            "KNeighborsClassifier 0.21903425333957066\n",
            "SVC 0.22651904984666563\n",
            "VotingClassifier 0.49254119236966576\n"
          ]
        }
      ],
      "source": [
        "4# testing players_22 on VotingClassifier\n",
        "\n",
        "decision_tree = DecisionTreeClassifier(random_state=42, criterion='entropy')\n",
        "knn = KNeighborsClassifier(n_neighbors=8)\n",
        "svm = SVC(probability=True, random_state=42)\n",
        "\n",
        "voting_classifier = VotingClassifier(estimators=[\n",
        "    ('decision_tree', decision_tree),\n",
        "    ('knn', knn),\n",
        "    ('svm', svm)\n",
        "], voting='soft')\n",
        "\n",
        "for model in (decision_tree, knn, svm,voting_classifier):\n",
        "  model.fit(x_train,y_train)\n",
        "  y_pred=model.predict(x_test_22)\n",
        "  print(model.__class__.__name__,accuracy_score(y_pred,y_test_22))"
      ]
    },
    {
      "cell_type": "code",
      "execution_count": null,
      "metadata": {
        "id": "_vcnTQ7G7bgI",
        "colab": {
          "base_uri": "https://localhost:8080/"
        },
        "outputId": "d05110c8-daa9-45b4-dea1-9952beb340e9"
      },
      "outputs": [
        {
          "output_type": "stream",
          "name": "stdout",
          "text": [
            "\n",
            "Cross-validation scores: [0.20752227 0.2325965  0.23061696 0.23028703 0.23655559]\n",
            "\n",
            "Mean cross-validation score: 0.227515671395579\n",
            "\n",
            "Accuracy of the model: 0.18587244659285826\n",
            "\n",
            "mean_absolute_error of the model: 2.257705701959561\n",
            "\n",
            "mean_squared_error of the model: 10.273506939030096\n",
            "\n",
            "r2_score of the model: 0.7829622944859147\n",
            "\n",
            "grid.best_score: 0.2328600102754339\n",
            "\n",
            "grid.best_params: {'n_estimators': 25}\n",
            "\n",
            "grid.best_estimator: RandomForestClassifier(criterion='entropy', max_depth=3, n_estimators=25)\n",
            "\n",
            "Accuracy of the best model: 0.1833775144238266\n",
            "\n",
            "mean_absolute_error of the best model: 2.3312542231924738\n",
            "\n",
            "mean_squared_error of the best model: 10.600810852954936\n",
            "\n",
            "r2_score of the best model: 0.7760476848102109\n"
          ]
        }
      ],
      "source": [
        "5# testing players_22 on RandomForestClassifier\n",
        "\n",
        "rfc=RandomForestClassifier(n_estimators=20, max_depth=3, criterion='entropy')\n",
        "\n",
        "# Perform cross-validation\n",
        "cv_scores = cross_val_score(rfc, x_train, y_train, cv=5)\n",
        "print(f\"\\nCross-validation scores: {cv_scores}\")\n",
        "print(f\"\\nMean cross-validation score: {cv_scores.mean()}\")\n",
        "\n",
        "# Fit the model\n",
        "rfc.fit(x_train,y_train)\n",
        "y_pred=rfc.predict(x_test_22)\n",
        "accuracy_score(y_pred,y_test_22)\n",
        "print('\\nAccuracy of the model:',accuracy_score(y_pred,y_test_22))\n",
        "\n",
        "# Evaluate the model\n",
        "mae = mean_absolute_error(y_test_22, y_pred)\n",
        "mse = mean_squared_error(y_test_22, y_pred)\n",
        "r2 = r2_score(y_test_22, y_pred)\n",
        "print(\"\\nmean_absolute_error of the model:\",mae)\n",
        "print(\"\\nmean_squared_error of the model:\",mse)\n",
        "print(\"\\nr2_score of the model:\",r2)\n",
        "\n",
        "# Fine-tune the model (RandomForestClassifier) with GridSearchCV\n",
        "n_estimators_range = list(range(1, 31))\n",
        "\n",
        "# Create a parameter grid: map the parameter names to the values that should be searched\n",
        "param_grid = dict(n_estimators=n_estimators_range)\n",
        "\n",
        "grid = GridSearchCV(RandomForestClassifier(max_depth=3, criterion='entropy'), param_grid, cv=10, scoring='accuracy')\n",
        "grid.fit(x_train, y_train)\n",
        "\n",
        "rfc=RandomForestClassifier(n_estimators=grid.best_params_['n_estimators'], max_depth=3, criterion='entropy')\n",
        "rfc.fit(x_train,y_train)\n",
        "y_pred=rfc.predict(x_test_22)\n",
        "accuracy_score(y_pred,y_test_22)\n",
        "\n",
        "# Evaluate the model\n",
        "mae = mean_absolute_error(y_test_22, y_pred)\n",
        "mse = mean_squared_error(y_test_22, y_pred)\n",
        "r2 = r2_score(y_test_22, y_pred)\n",
        "\n",
        "# Examine the best model\n",
        "print(\"\\ngrid.best_score:\",grid.best_score_)\n",
        "print(\"\\ngrid.best_params:\",grid.best_params_)\n",
        "print(\"\\ngrid.best_estimator:\",grid.best_estimator_)\n",
        "print(\"\\nAccuracy of the best model:\", accuracy_score(y_pred,y_test_22))\n",
        "print(\"\\nmean_absolute_error of the best model:\",mae)\n",
        "print(\"\\nmean_squared_error of the best model:\",mse)\n",
        "print(\"\\nr2_score of the best model:\",r2)"
      ]
    },
    {
      "cell_type": "code",
      "execution_count": null,
      "metadata": {
        "id": "epqcm_ukjHJu",
        "colab": {
          "base_uri": "https://localhost:8080/"
        },
        "outputId": "c6bfc0fa-7aae-49de-bbc1-6f4c7a0ba245"
      },
      "outputs": [
        {
          "output_type": "stream",
          "name": "stdout",
          "text": [
            "movement_reactions 0.16954535825960007\n",
            "mentality_composure 0.06729818203789074\n",
            "passing 0.007119756310937079\n",
            "potential 0.041332423060918874\n",
            "release_clause_eur 0.337863817826392\n",
            "dribbling 0.005543307088147176\n",
            "wage_eur 0.10078603589402661\n",
            "power_shot_power 0.0006677526517882524\n",
            "value_eur 0.21695738718818663\n",
            "mentality_vision 0.0007939273106302313\n",
            "attacking_short_passing 0.052092052371482254\n"
          ]
        }
      ],
      "source": [
        "# correlation between variables in selected_features and the target variable; overall_rating\n",
        "for name, score in zip(x_train.columns, rfc.feature_importances_):\n",
        "  print(name, score)"
      ]
    },
    {
      "cell_type": "markdown",
      "metadata": {
        "id": "ioqmVCSoZ1Pt"
      },
      "source": [
        "### Saving RandomForestRegressor model using pickle"
      ]
    },
    {
      "cell_type": "code",
      "execution_count": 48,
      "metadata": {
        "id": "TpnSJMYZDmSd"
      },
      "outputs": [],
      "source": [
        "filename = '/content/drive/My Drive/Colab Notebooks/Intro to AI Folder/Mid-Semester Project/player_rating_predictor.pkl'\n",
        "pickle.dump(rf_model, open(filename, 'wb'))"
      ]
    },
    {
      "cell_type": "code",
      "source": [
        "loaded_model = pickle.load(open(filename, 'rb'))\n"
      ],
      "metadata": {
        "id": "1I00s5YKa2X-"
      },
      "execution_count": 49,
      "outputs": []
    },
    {
      "cell_type": "code",
      "source": [
        "y_pred = loaded_model.predict(x_test)"
      ],
      "metadata": {
        "id": "aOnoCPm4bncB"
      },
      "execution_count": 50,
      "outputs": []
    },
    {
      "cell_type": "code",
      "source": [
        "mae = mean_absolute_error(y_test, y_pred)\n",
        "mse = mean_squared_error(y_test, y_pred)\n",
        "r2 = r2_score(y_test, y_pred)\n",
        "\n",
        "print(\"mean_absolute_error:\",mae)\n",
        "print(\"mean_squared_error:\",mse)\n",
        "print(\"r2_score:\",r2)"
      ],
      "metadata": {
        "id": "1Cb9kPA8yHdm"
      },
      "execution_count": null,
      "outputs": []
    },
    {
      "cell_type": "code",
      "source": [
        "if isinstance(loaded_model, RandomForestRegressor):\n",
        "    print(\"The model is a RandomForestRegressor.\")\n",
        "else:\n",
        "    print(\"The model is not a RandomForestRegressor.\")"
      ],
      "metadata": {
        "id": "xCjs-mNofz88",
        "colab": {
          "base_uri": "https://localhost:8080/"
        },
        "outputId": "2b6a9c3c-63ed-451c-ae2e-40ccbc66ee0d"
      },
      "execution_count": 51,
      "outputs": [
        {
          "output_type": "stream",
          "name": "stdout",
          "text": [
            "The model is a RandomForestRegressor.\n"
          ]
        }
      ]
    }
  ],
  "metadata": {
    "colab": {
      "provenance": []
    },
    "kernelspec": {
      "display_name": "Python 3",
      "name": "python3"
    },
    "language_info": {
      "name": "python"
    }
  },
  "nbformat": 4,
  "nbformat_minor": 0
}